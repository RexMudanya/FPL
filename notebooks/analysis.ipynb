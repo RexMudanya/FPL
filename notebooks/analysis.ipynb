{
 "cells": [
  {
   "cell_type": "code",
   "execution_count": 1,
   "metadata": {
    "collapsed": true,
    "pycharm": {
     "name": "#%%\n"
    }
   },
   "outputs": [],
   "source": [
    "import pandas as pd\n",
    "import matplotlib.pyplot as plt"
   ]
  },
  {
   "cell_type": "code",
   "execution_count": 2,
   "metadata": {
    "collapsed": false,
    "pycharm": {
     "name": "#%%\n"
    }
   },
   "outputs": [
    {
     "data": {
      "text/html": [
       "<div>\n",
       "<style scoped>\n",
       "    .dataframe tbody tr th:only-of-type {\n",
       "        vertical-align: middle;\n",
       "    }\n",
       "\n",
       "    .dataframe tbody tr th {\n",
       "        vertical-align: top;\n",
       "    }\n",
       "\n",
       "    .dataframe thead th {\n",
       "        text-align: right;\n",
       "    }\n",
       "</style>\n",
       "<table border=\"1\" class=\"dataframe\">\n",
       "  <thead>\n",
       "    <tr style=\"text-align: right;\">\n",
       "      <th></th>\n",
       "      <th>first_name</th>\n",
       "      <th>second_name</th>\n",
       "      <th>goals_scored</th>\n",
       "      <th>assists</th>\n",
       "      <th>total_points</th>\n",
       "      <th>minutes</th>\n",
       "      <th>goals_conceded</th>\n",
       "      <th>creativity</th>\n",
       "      <th>influence</th>\n",
       "      <th>threat</th>\n",
       "      <th>bonus</th>\n",
       "      <th>bps</th>\n",
       "      <th>ict_index</th>\n",
       "      <th>clean_sheets</th>\n",
       "      <th>red_cards</th>\n",
       "      <th>yellow_cards</th>\n",
       "      <th>selected_by_percent</th>\n",
       "      <th>now_cost</th>\n",
       "      <th>element_type</th>\n",
       "    </tr>\n",
       "  </thead>\n",
       "  <tbody>\n",
       "    <tr>\n",
       "      <th>0</th>\n",
       "      <td>Granit</td>\n",
       "      <td>Xhaka</td>\n",
       "      <td>7</td>\n",
       "      <td>8</td>\n",
       "      <td>153</td>\n",
       "      <td>2992</td>\n",
       "      <td>35</td>\n",
       "      <td>673.3</td>\n",
       "      <td>647.0</td>\n",
       "      <td>498.0</td>\n",
       "      <td>15</td>\n",
       "      <td>634</td>\n",
       "      <td>182.0</td>\n",
       "      <td>13</td>\n",
       "      <td>0</td>\n",
       "      <td>4</td>\n",
       "      <td>2.7</td>\n",
       "      <td>48</td>\n",
       "      <td>MID</td>\n",
       "    </tr>\n",
       "    <tr>\n",
       "      <th>1</th>\n",
       "      <td>Mohamed</td>\n",
       "      <td>Elneny</td>\n",
       "      <td>0</td>\n",
       "      <td>0</td>\n",
       "      <td>6</td>\n",
       "      <td>111</td>\n",
       "      <td>2</td>\n",
       "      <td>5.4</td>\n",
       "      <td>4.6</td>\n",
       "      <td>0.0</td>\n",
       "      <td>0</td>\n",
       "      <td>27</td>\n",
       "      <td>1.1</td>\n",
       "      <td>0</td>\n",
       "      <td>0</td>\n",
       "      <td>0</td>\n",
       "      <td>0.6</td>\n",
       "      <td>41</td>\n",
       "      <td>MID</td>\n",
       "    </tr>\n",
       "  </tbody>\n",
       "</table>\n",
       "</div>"
      ],
      "text/plain": [
       "  first_name second_name  goals_scored  assists  total_points  minutes  \\\n",
       "0     Granit       Xhaka             7        8           153     2992   \n",
       "1    Mohamed      Elneny             0        0             6      111   \n",
       "\n",
       "   goals_conceded  creativity  influence  threat  bonus  bps  ict_index  \\\n",
       "0              35       673.3      647.0   498.0     15  634      182.0   \n",
       "1               2         5.4        4.6     0.0      0   27        1.1   \n",
       "\n",
       "   clean_sheets  red_cards  yellow_cards  selected_by_percent  now_cost  \\\n",
       "0            13          0             4                  2.7        48   \n",
       "1             0          0             0                  0.6        41   \n",
       "\n",
       "  element_type  \n",
       "0          MID  \n",
       "1          MID  "
      ]
     },
     "execution_count": 2,
     "metadata": {},
     "output_type": "execute_result"
    }
   ],
   "source": [
    "data = pd.read_csv(\"../Fantasy-Premier-League/data/2022-23/cleaned_players.csv\", index_col=None)\n",
    "data.head(2)"
   ]
  },
  {
   "cell_type": "code",
   "execution_count": 3,
   "metadata": {
    "collapsed": false,
    "pycharm": {
     "name": "#%%\n"
    }
   },
   "outputs": [
    {
     "data": {
      "text/plain": [
       "(778, 19)"
      ]
     },
     "execution_count": 3,
     "metadata": {},
     "output_type": "execute_result"
    }
   ],
   "source": [
    "data.shape"
   ]
  },
  {
   "cell_type": "code",
   "execution_count": 4,
   "metadata": {
    "collapsed": false,
    "pycharm": {
     "name": "#%%\n"
    }
   },
   "outputs": [
    {
     "data": {
      "text/plain": [
       "array(['first_name', 'second_name', 'goals_scored', 'assists',\n",
       "       'total_points', 'minutes', 'goals_conceded', 'creativity',\n",
       "       'influence', 'threat', 'bonus', 'bps', 'ict_index', 'clean_sheets',\n",
       "       'red_cards', 'yellow_cards', 'selected_by_percent', 'now_cost',\n",
       "       'element_type'], dtype=object)"
      ]
     },
     "execution_count": 4,
     "metadata": {},
     "output_type": "execute_result"
    }
   ],
   "source": [
    "data.columns.values"
   ]
  },
  {
   "cell_type": "code",
   "execution_count": 5,
   "metadata": {
    "collapsed": false,
    "pycharm": {
     "name": "#%%\n"
    }
   },
   "outputs": [],
   "source": [
    "X = data[[\"creativity\", \"influence\", \"threat\", 'ict_index', 'clean_sheets', 'selected_by_percent', 'now_cost', 'element_type']]\n",
    "Y = data[[\"goals_scored\", \"assists\", \"total_points\", 'minutes', 'goals_conceded', 'bonus', 'clean_sheets', 'red_cards', 'yellow_cards', 'selected_by_percent', 'now_cost']]"
   ]
  },
  {
   "cell_type": "code",
   "execution_count": 6,
   "metadata": {
    "collapsed": false,
    "pycharm": {
     "name": "#%%\n"
    }
   },
   "outputs": [
    {
     "data": {
      "text/html": [
       "<div>\n",
       "<style scoped>\n",
       "    .dataframe tbody tr th:only-of-type {\n",
       "        vertical-align: middle;\n",
       "    }\n",
       "\n",
       "    .dataframe tbody tr th {\n",
       "        vertical-align: top;\n",
       "    }\n",
       "\n",
       "    .dataframe thead th {\n",
       "        text-align: right;\n",
       "    }\n",
       "</style>\n",
       "<table border=\"1\" class=\"dataframe\">\n",
       "  <thead>\n",
       "    <tr style=\"text-align: right;\">\n",
       "      <th></th>\n",
       "      <th>creativity</th>\n",
       "      <th>influence</th>\n",
       "      <th>threat</th>\n",
       "      <th>ict_index</th>\n",
       "      <th>clean_sheets</th>\n",
       "      <th>selected_by_percent</th>\n",
       "      <th>now_cost</th>\n",
       "      <th>element_type</th>\n",
       "    </tr>\n",
       "  </thead>\n",
       "  <tbody>\n",
       "    <tr>\n",
       "      <th>0</th>\n",
       "      <td>673.3</td>\n",
       "      <td>647.0</td>\n",
       "      <td>498.0</td>\n",
       "      <td>182.0</td>\n",
       "      <td>13</td>\n",
       "      <td>2.7</td>\n",
       "      <td>48</td>\n",
       "      <td>MID</td>\n",
       "    </tr>\n",
       "    <tr>\n",
       "      <th>1</th>\n",
       "      <td>5.4</td>\n",
       "      <td>4.6</td>\n",
       "      <td>0.0</td>\n",
       "      <td>1.1</td>\n",
       "      <td>0</td>\n",
       "      <td>0.6</td>\n",
       "      <td>41</td>\n",
       "      <td>MID</td>\n",
       "    </tr>\n",
       "    <tr>\n",
       "      <th>2</th>\n",
       "      <td>10.3</td>\n",
       "      <td>152.0</td>\n",
       "      <td>54.0</td>\n",
       "      <td>21.6</td>\n",
       "      <td>0</td>\n",
       "      <td>0.2</td>\n",
       "      <td>42</td>\n",
       "      <td>DEF</td>\n",
       "    </tr>\n",
       "    <tr>\n",
       "      <th>3</th>\n",
       "      <td>439.6</td>\n",
       "      <td>513.2</td>\n",
       "      <td>240.0</td>\n",
       "      <td>119.5</td>\n",
       "      <td>11</td>\n",
       "      <td>0.4</td>\n",
       "      <td>47</td>\n",
       "      <td>MID</td>\n",
       "    </tr>\n",
       "    <tr>\n",
       "      <th>4</th>\n",
       "      <td>1100.4</td>\n",
       "      <td>960.0</td>\n",
       "      <td>920.0</td>\n",
       "      <td>298.3</td>\n",
       "      <td>13</td>\n",
       "      <td>33.3</td>\n",
       "      <td>69</td>\n",
       "      <td>MID</td>\n",
       "    </tr>\n",
       "  </tbody>\n",
       "</table>\n",
       "</div>"
      ],
      "text/plain": [
       "   creativity  influence  threat  ict_index  clean_sheets  \\\n",
       "0       673.3      647.0   498.0      182.0            13   \n",
       "1         5.4        4.6     0.0        1.1             0   \n",
       "2        10.3      152.0    54.0       21.6             0   \n",
       "3       439.6      513.2   240.0      119.5            11   \n",
       "4      1100.4      960.0   920.0      298.3            13   \n",
       "\n",
       "   selected_by_percent  now_cost element_type  \n",
       "0                  2.7        48          MID  \n",
       "1                  0.6        41          MID  \n",
       "2                  0.2        42          DEF  \n",
       "3                  0.4        47          MID  \n",
       "4                 33.3        69          MID  "
      ]
     },
     "execution_count": 6,
     "metadata": {},
     "output_type": "execute_result"
    }
   ],
   "source": [
    "X.head()"
   ]
  },
  {
   "cell_type": "code",
   "execution_count": 7,
   "metadata": {
    "collapsed": false,
    "pycharm": {
     "name": "#%%\n"
    }
   },
   "outputs": [
    {
     "data": {
      "text/html": [
       "<div>\n",
       "<style scoped>\n",
       "    .dataframe tbody tr th:only-of-type {\n",
       "        vertical-align: middle;\n",
       "    }\n",
       "\n",
       "    .dataframe tbody tr th {\n",
       "        vertical-align: top;\n",
       "    }\n",
       "\n",
       "    .dataframe thead th {\n",
       "        text-align: right;\n",
       "    }\n",
       "</style>\n",
       "<table border=\"1\" class=\"dataframe\">\n",
       "  <thead>\n",
       "    <tr style=\"text-align: right;\">\n",
       "      <th></th>\n",
       "      <th>goals_scored</th>\n",
       "      <th>assists</th>\n",
       "      <th>total_points</th>\n",
       "      <th>minutes</th>\n",
       "      <th>goals_conceded</th>\n",
       "      <th>bonus</th>\n",
       "      <th>clean_sheets</th>\n",
       "      <th>red_cards</th>\n",
       "      <th>yellow_cards</th>\n",
       "      <th>selected_by_percent</th>\n",
       "      <th>now_cost</th>\n",
       "    </tr>\n",
       "  </thead>\n",
       "  <tbody>\n",
       "    <tr>\n",
       "      <th>0</th>\n",
       "      <td>7</td>\n",
       "      <td>8</td>\n",
       "      <td>153</td>\n",
       "      <td>2992</td>\n",
       "      <td>35</td>\n",
       "      <td>15</td>\n",
       "      <td>13</td>\n",
       "      <td>0</td>\n",
       "      <td>4</td>\n",
       "      <td>2.7</td>\n",
       "      <td>48</td>\n",
       "    </tr>\n",
       "    <tr>\n",
       "      <th>1</th>\n",
       "      <td>0</td>\n",
       "      <td>0</td>\n",
       "      <td>6</td>\n",
       "      <td>111</td>\n",
       "      <td>2</td>\n",
       "      <td>0</td>\n",
       "      <td>0</td>\n",
       "      <td>0</td>\n",
       "      <td>0</td>\n",
       "      <td>0.6</td>\n",
       "      <td>41</td>\n",
       "    </tr>\n",
       "    <tr>\n",
       "      <th>2</th>\n",
       "      <td>1</td>\n",
       "      <td>0</td>\n",
       "      <td>21</td>\n",
       "      <td>562</td>\n",
       "      <td>13</td>\n",
       "      <td>0</td>\n",
       "      <td>0</td>\n",
       "      <td>0</td>\n",
       "      <td>0</td>\n",
       "      <td>0.2</td>\n",
       "      <td>42</td>\n",
       "    </tr>\n",
       "    <tr>\n",
       "      <th>3</th>\n",
       "      <td>3</td>\n",
       "      <td>0</td>\n",
       "      <td>86</td>\n",
       "      <td>2480</td>\n",
       "      <td>28</td>\n",
       "      <td>6</td>\n",
       "      <td>11</td>\n",
       "      <td>0</td>\n",
       "      <td>5</td>\n",
       "      <td>0.4</td>\n",
       "      <td>47</td>\n",
       "    </tr>\n",
       "    <tr>\n",
       "      <th>4</th>\n",
       "      <td>15</td>\n",
       "      <td>8</td>\n",
       "      <td>212</td>\n",
       "      <td>3132</td>\n",
       "      <td>38</td>\n",
       "      <td>30</td>\n",
       "      <td>13</td>\n",
       "      <td>0</td>\n",
       "      <td>4</td>\n",
       "      <td>33.3</td>\n",
       "      <td>69</td>\n",
       "    </tr>\n",
       "  </tbody>\n",
       "</table>\n",
       "</div>"
      ],
      "text/plain": [
       "   goals_scored  assists  total_points  minutes  goals_conceded  bonus  \\\n",
       "0             7        8           153     2992              35     15   \n",
       "1             0        0             6      111               2      0   \n",
       "2             1        0            21      562              13      0   \n",
       "3             3        0            86     2480              28      6   \n",
       "4            15        8           212     3132              38     30   \n",
       "\n",
       "   clean_sheets  red_cards  yellow_cards  selected_by_percent  now_cost  \n",
       "0            13          0             4                  2.7        48  \n",
       "1             0          0             0                  0.6        41  \n",
       "2             0          0             0                  0.2        42  \n",
       "3            11          0             5                  0.4        47  \n",
       "4            13          0             4                 33.3        69  "
      ]
     },
     "execution_count": 7,
     "metadata": {},
     "output_type": "execute_result"
    }
   ],
   "source": [
    "Y.head()"
   ]
  },
  {
   "cell_type": "code",
   "execution_count": 8,
   "metadata": {
    "collapsed": false,
    "pycharm": {
     "name": "#%%\n"
    }
   },
   "outputs": [
    {
     "data": {
      "text/plain": [
       "element_type\n",
       "MID             338\n",
       "DEF             262\n",
       "FWD              93\n",
       "GK               85\n",
       "Name: count, dtype: int64"
      ]
     },
     "execution_count": 8,
     "metadata": {},
     "output_type": "execute_result"
    }
   ],
   "source": [
    "X[['element_type']].value_counts()"
   ]
  },
  {
   "cell_type": "code",
   "execution_count": 10,
   "metadata": {
    "collapsed": false,
    "pycharm": {
     "name": "#%%\n"
    }
   },
   "outputs": [],
   "source": [
    "# todo: refactor, categorical to numerical\n",
    "X.loc[X['element_type'] == 'DEF', 'element_type'] = 2\n",
    "X.loc[X['element_type'] == 'GK', 'element_type'] = 1\n",
    "X.loc[X['element_type'] == 'MID', 'element_type'] = 3\n",
    "X.loc[X['element_type'] == 'FWD', 'element_type'] = 4"
   ]
  },
  {
   "cell_type": "code",
   "execution_count": 11,
   "metadata": {
    "collapsed": false,
    "pycharm": {
     "name": "#%%\n"
    }
   },
   "outputs": [
    {
     "data": {
      "text/html": [
       "<div>\n",
       "<style scoped>\n",
       "    .dataframe tbody tr th:only-of-type {\n",
       "        vertical-align: middle;\n",
       "    }\n",
       "\n",
       "    .dataframe tbody tr th {\n",
       "        vertical-align: top;\n",
       "    }\n",
       "\n",
       "    .dataframe thead th {\n",
       "        text-align: right;\n",
       "    }\n",
       "</style>\n",
       "<table border=\"1\" class=\"dataframe\">\n",
       "  <thead>\n",
       "    <tr style=\"text-align: right;\">\n",
       "      <th></th>\n",
       "      <th>creativity</th>\n",
       "      <th>influence</th>\n",
       "      <th>threat</th>\n",
       "      <th>ict_index</th>\n",
       "      <th>clean_sheets</th>\n",
       "      <th>selected_by_percent</th>\n",
       "      <th>now_cost</th>\n",
       "      <th>element_type</th>\n",
       "    </tr>\n",
       "  </thead>\n",
       "  <tbody>\n",
       "    <tr>\n",
       "      <th>0</th>\n",
       "      <td>673.3</td>\n",
       "      <td>647.0</td>\n",
       "      <td>498.0</td>\n",
       "      <td>182.0</td>\n",
       "      <td>13</td>\n",
       "      <td>2.7</td>\n",
       "      <td>48</td>\n",
       "      <td>3</td>\n",
       "    </tr>\n",
       "    <tr>\n",
       "      <th>1</th>\n",
       "      <td>5.4</td>\n",
       "      <td>4.6</td>\n",
       "      <td>0.0</td>\n",
       "      <td>1.1</td>\n",
       "      <td>0</td>\n",
       "      <td>0.6</td>\n",
       "      <td>41</td>\n",
       "      <td>3</td>\n",
       "    </tr>\n",
       "    <tr>\n",
       "      <th>2</th>\n",
       "      <td>10.3</td>\n",
       "      <td>152.0</td>\n",
       "      <td>54.0</td>\n",
       "      <td>21.6</td>\n",
       "      <td>0</td>\n",
       "      <td>0.2</td>\n",
       "      <td>42</td>\n",
       "      <td>2</td>\n",
       "    </tr>\n",
       "    <tr>\n",
       "      <th>3</th>\n",
       "      <td>439.6</td>\n",
       "      <td>513.2</td>\n",
       "      <td>240.0</td>\n",
       "      <td>119.5</td>\n",
       "      <td>11</td>\n",
       "      <td>0.4</td>\n",
       "      <td>47</td>\n",
       "      <td>3</td>\n",
       "    </tr>\n",
       "    <tr>\n",
       "      <th>4</th>\n",
       "      <td>1100.4</td>\n",
       "      <td>960.0</td>\n",
       "      <td>920.0</td>\n",
       "      <td>298.3</td>\n",
       "      <td>13</td>\n",
       "      <td>33.3</td>\n",
       "      <td>69</td>\n",
       "      <td>3</td>\n",
       "    </tr>\n",
       "  </tbody>\n",
       "</table>\n",
       "</div>"
      ],
      "text/plain": [
       "   creativity  influence  threat  ict_index  clean_sheets  \\\n",
       "0       673.3      647.0   498.0      182.0            13   \n",
       "1         5.4        4.6     0.0        1.1             0   \n",
       "2        10.3      152.0    54.0       21.6             0   \n",
       "3       439.6      513.2   240.0      119.5            11   \n",
       "4      1100.4      960.0   920.0      298.3            13   \n",
       "\n",
       "   selected_by_percent  now_cost element_type  \n",
       "0                  2.7        48            3  \n",
       "1                  0.6        41            3  \n",
       "2                  0.2        42            2  \n",
       "3                  0.4        47            3  \n",
       "4                 33.3        69            3  "
      ]
     },
     "execution_count": 11,
     "metadata": {},
     "output_type": "execute_result"
    }
   ],
   "source": [
    "X.head()"
   ]
  },
  {
   "cell_type": "code",
   "execution_count": 12,
   "metadata": {
    "collapsed": false,
    "pycharm": {
     "name": "#%%\n"
    }
   },
   "outputs": [
    {
     "data": {
      "text/plain": [
       "Index(['goals_scored', 'assists', 'total_points', 'minutes', 'goals_conceded',\n",
       "       'bonus', 'clean_sheets', 'red_cards', 'yellow_cards',\n",
       "       'selected_by_percent', 'now_cost'],\n",
       "      dtype='object')"
      ]
     },
     "execution_count": 12,
     "metadata": {},
     "output_type": "execute_result"
    }
   ],
   "source": [
    "Y.columns"
   ]
  },
  {
   "cell_type": "code",
   "execution_count": 13,
   "metadata": {
    "collapsed": false,
    "pycharm": {
     "name": "#%%\n"
    }
   },
   "outputs": [],
   "source": [
    "# fit a model to predict points\n",
    "from sklearn.model_selection import train_test_split\n",
    "\n",
    "X_train, X_test, y_train, y_test = train_test_split(\n",
    "    X.values,\n",
    "    Y['total_points'].values,\n",
    "    test_size=.33,\n",
    "    shuffle=True,\n",
    "    random_state=42\n",
    ")"
   ]
  },
  {
   "cell_type": "code",
   "execution_count": 15,
   "metadata": {
    "collapsed": false,
    "pycharm": {
     "name": "#%%\n"
    }
   },
   "outputs": [
    {
     "data": {
      "text/html": [
       "<style>#sk-container-id-1 {color: black;}#sk-container-id-1 pre{padding: 0;}#sk-container-id-1 div.sk-toggleable {background-color: white;}#sk-container-id-1 label.sk-toggleable__label {cursor: pointer;display: block;width: 100%;margin-bottom: 0;padding: 0.3em;box-sizing: border-box;text-align: center;}#sk-container-id-1 label.sk-toggleable__label-arrow:before {content: \"▸\";float: left;margin-right: 0.25em;color: #696969;}#sk-container-id-1 label.sk-toggleable__label-arrow:hover:before {color: black;}#sk-container-id-1 div.sk-estimator:hover label.sk-toggleable__label-arrow:before {color: black;}#sk-container-id-1 div.sk-toggleable__content {max-height: 0;max-width: 0;overflow: hidden;text-align: left;background-color: #f0f8ff;}#sk-container-id-1 div.sk-toggleable__content pre {margin: 0.2em;color: black;border-radius: 0.25em;background-color: #f0f8ff;}#sk-container-id-1 input.sk-toggleable__control:checked~div.sk-toggleable__content {max-height: 200px;max-width: 100%;overflow: auto;}#sk-container-id-1 input.sk-toggleable__control:checked~label.sk-toggleable__label-arrow:before {content: \"▾\";}#sk-container-id-1 div.sk-estimator input.sk-toggleable__control:checked~label.sk-toggleable__label {background-color: #d4ebff;}#sk-container-id-1 div.sk-label input.sk-toggleable__control:checked~label.sk-toggleable__label {background-color: #d4ebff;}#sk-container-id-1 input.sk-hidden--visually {border: 0;clip: rect(1px 1px 1px 1px);clip: rect(1px, 1px, 1px, 1px);height: 1px;margin: -1px;overflow: hidden;padding: 0;position: absolute;width: 1px;}#sk-container-id-1 div.sk-estimator {font-family: monospace;background-color: #f0f8ff;border: 1px dotted black;border-radius: 0.25em;box-sizing: border-box;margin-bottom: 0.5em;}#sk-container-id-1 div.sk-estimator:hover {background-color: #d4ebff;}#sk-container-id-1 div.sk-parallel-item::after {content: \"\";width: 100%;border-bottom: 1px solid gray;flex-grow: 1;}#sk-container-id-1 div.sk-label:hover label.sk-toggleable__label {background-color: #d4ebff;}#sk-container-id-1 div.sk-serial::before {content: \"\";position: absolute;border-left: 1px solid gray;box-sizing: border-box;top: 0;bottom: 0;left: 50%;z-index: 0;}#sk-container-id-1 div.sk-serial {display: flex;flex-direction: column;align-items: center;background-color: white;padding-right: 0.2em;padding-left: 0.2em;position: relative;}#sk-container-id-1 div.sk-item {position: relative;z-index: 1;}#sk-container-id-1 div.sk-parallel {display: flex;align-items: stretch;justify-content: center;background-color: white;position: relative;}#sk-container-id-1 div.sk-item::before, #sk-container-id-1 div.sk-parallel-item::before {content: \"\";position: absolute;border-left: 1px solid gray;box-sizing: border-box;top: 0;bottom: 0;left: 50%;z-index: -1;}#sk-container-id-1 div.sk-parallel-item {display: flex;flex-direction: column;z-index: 1;position: relative;background-color: white;}#sk-container-id-1 div.sk-parallel-item:first-child::after {align-self: flex-end;width: 50%;}#sk-container-id-1 div.sk-parallel-item:last-child::after {align-self: flex-start;width: 50%;}#sk-container-id-1 div.sk-parallel-item:only-child::after {width: 0;}#sk-container-id-1 div.sk-dashed-wrapped {border: 1px dashed gray;margin: 0 0.4em 0.5em 0.4em;box-sizing: border-box;padding-bottom: 0.4em;background-color: white;}#sk-container-id-1 div.sk-label label {font-family: monospace;font-weight: bold;display: inline-block;line-height: 1.2em;}#sk-container-id-1 div.sk-label-container {text-align: center;}#sk-container-id-1 div.sk-container {/* jupyter's `normalize.less` sets `[hidden] { display: none; }` but bootstrap.min.css set `[hidden] { display: none !important; }` so we also need the `!important` here to be able to override the default hidden behavior on the sphinx rendered scikit-learn.org. See: https://github.com/scikit-learn/scikit-learn/issues/21755 */display: inline-block !important;position: relative;}#sk-container-id-1 div.sk-text-repr-fallback {display: none;}</style><div id=\"sk-container-id-1\" class=\"sk-top-container\"><div class=\"sk-text-repr-fallback\"><pre>RandomForestRegressor()</pre><b>In a Jupyter environment, please rerun this cell to show the HTML representation or trust the notebook. <br />On GitHub, the HTML representation is unable to render, please try loading this page with nbviewer.org.</b></div><div class=\"sk-container\" hidden><div class=\"sk-item\"><div class=\"sk-estimator sk-toggleable\"><input class=\"sk-toggleable__control sk-hidden--visually\" id=\"sk-estimator-id-1\" type=\"checkbox\" checked><label for=\"sk-estimator-id-1\" class=\"sk-toggleable__label sk-toggleable__label-arrow\">RandomForestRegressor</label><div class=\"sk-toggleable__content\"><pre>RandomForestRegressor()</pre></div></div></div></div></div>"
      ],
      "text/plain": [
       "RandomForestRegressor()"
      ]
     },
     "execution_count": 15,
     "metadata": {},
     "output_type": "execute_result"
    }
   ],
   "source": [
    "from sklearn.ensemble import RandomForestRegressor\n",
    "\n",
    "reg = RandomForestRegressor(n_estimators=100, verbose=0, criterion='squared_error')\n",
    "reg.fit(X_train, y_train)"
   ]
  },
  {
   "cell_type": "code",
   "execution_count": 16,
   "metadata": {
    "collapsed": false,
    "pycharm": {
     "name": "#%%\n"
    }
   },
   "outputs": [
    {
     "data": {
      "text/plain": [
       "0.9678589760089412"
      ]
     },
     "execution_count": 16,
     "metadata": {},
     "output_type": "execute_result"
    }
   ],
   "source": [
    "reg.score(X_test, y_test)"
   ]
  },
  {
   "cell_type": "code",
   "execution_count": 17,
   "metadata": {
    "collapsed": false,
    "pycharm": {
     "name": "#%%\n"
    }
   },
   "outputs": [],
   "source": [
    "pred = reg.predict(X_test)"
   ]
  },
  {
   "cell_type": "code",
   "execution_count": 18,
   "metadata": {
    "collapsed": false,
    "pycharm": {
     "name": "#%%\n"
    }
   },
   "outputs": [
    {
     "data": {
      "image/png": "[encoded data removed]",
      "text/plain": [
       "<Figure size 640x480 with 1 Axes>"
      ]
     },
     "metadata": {},
     "output_type": "display_data"
    }
   ],
   "source": [
    "plt.plot(pred, label='pred')\n",
    "plt.plot(y_test, label='actual')\n",
    "plt.legend()\n",
    "plt.show()"
   ]
  },
  {
   "cell_type": "code",
   "execution_count": 19,
   "metadata": {
    "collapsed": false,
    "pycharm": {
     "name": "#%%\n"
    }
   },
   "outputs": [],
   "source": [
    "elements = [\"creativity\", \"influence\", \"threat\", 'ict_index', 'clean_sheets', 'selected_by_percent', 'now_cost', 'element_type']"
   ]
  },
  {
   "cell_type": "code",
   "execution_count": 23,
   "metadata": {
    "collapsed": false,
    "pycharm": {
     "name": "#%%\n"
    }
   },
   "outputs": [],
   "source": [
    "def make_player_pred(fst_nm, lst_nm):\n",
    "    player = data[\n",
    "        (data['first_name'] == fst_nm) & (data['second_name'] == lst_nm)\n",
    "    ][[\"creativity\", \"influence\", \"threat\", 'ict_index', 'clean_sheets', 'selected_by_percent', 'now_cost', 'element_type']]\n",
    "\n",
    "    player.loc[player['element_type'] == 'DEF', 'element_type'] = 2\n",
    "    player.loc[player['element_type'] == 'GK', 'element_type'] = 1\n",
    "    player.loc[player['element_type'] == 'MID', 'element_type'] = 3\n",
    "    player.loc[player['element_type'] == 'FWD', 'element_type'] = 4\n",
    "\n",
    "    print(f\"{fst_nm} {lst_nm}:\")\n",
    "    print(player.values)\n",
    "    return reg.predict(player.values)"
   ]
  },
  {
   "cell_type": "code",
   "execution_count": 24,
   "metadata": {
    "collapsed": false,
    "pycharm": {
     "name": "#%%\n"
    }
   },
   "outputs": [
    {
     "name": "stdout",
     "output_type": "stream",
     "text": [
      "Gabriel Fernando de Jesus:\n",
      "[[407.3 594.2 1282.0 228.3 9 28.3 81 4]]\n",
      "[154.16]\n",
      "Kevin De Bruyne:\n",
      "[[1476.7 897.8 598.0 297.6 10 25.5 121 3]]\n",
      "[184.38]\n",
      "Harry Kane:\n",
      "[[744.8 1256.6 1707.0 371.0 11 32.7 115 4]]\n",
      "[225.66]\n",
      "Raheem Sterling:\n",
      "[[479.8 388.2 603.0 146.8 5 3.4 97 3]]\n",
      "[98.89]\n",
      "Pascal Groß:\n",
      "[[1215.4 888.4 578.0 268.6 11 11.0 54 3]]\n",
      "[158.26]\n",
      "Luis Díaz:\n",
      "[[176.7 236.2 388.0 80.1 4 6.6 78 3]]\n",
      "[61.7]\n"
     ]
    }
   ],
   "source": [
    "print(make_player_pred('Gabriel', 'Fernando de Jesus'))\n",
    "print(make_player_pred('Kevin', 'De Bruyne'))\n",
    "print(make_player_pred('Harry', 'Kane'))\n",
    "print(make_player_pred('Raheem', 'Sterling'))\n",
    "print(make_player_pred('Pascal', 'Groß'))\n",
    "print(make_player_pred('Luis', 'Díaz'))"
   ]
  },
  {
   "cell_type": "code",
   "execution_count": 25,
   "metadata": {
    "collapsed": false,
    "pycharm": {
     "name": "#%%\n"
    }
   },
   "outputs": [
    {
     "name": "stdout",
     "output_type": "stream",
     "text": [
      "Marc Cucurella Saseta:\n",
      "[[232.5 354.4 72.0 65.9 6 5.0 49 2]]\n",
      "[68.29]\n",
      "William Saliba:\n",
      "[[100.8 529.0 114.0 74.5 12 15.6 49 2]]\n",
      "[111.94]\n",
      "Trent Alexander-Arnold:\n",
      "[[1168.2 779.0 241.0 219.0 10 30.7 78 2]]\n",
      "[162.35]\n"
     ]
    }
   ],
   "source": [
    "print(make_player_pred('Marc', 'Cucurella Saseta'))\n",
    "print(make_player_pred('William', 'Saliba'))\n",
    "print(make_player_pred('Trent', 'Alexander-Arnold'))"
   ]
  },
  {
   "cell_type": "code",
   "execution_count": null,
   "metadata": {
    "collapsed": false,
    "pycharm": {
     "name": "#%%\n"
    }
   },
   "outputs": [],
   "source": []
  }
 ],
 "metadata": {
  "kernelspec": {
   "display_name": "Python 3",
   "language": "python",
   "name": "python3"
  },
  "language_info": {
   "codemirror_mode": {
    "name": "ipython",
    "version": 3
   },
   "file_extension": ".py",
   "mimetype": "text/x-python",
   "name": "python",
   "nbconvert_exporter": "python",
   "pygments_lexer": "ipython3",
   "version": "3.9.17"
  }
 },
 "nbformat": 4,
 "nbformat_minor": 0
}
